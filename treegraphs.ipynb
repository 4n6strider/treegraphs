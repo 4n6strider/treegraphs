{
 "cells": [
  {
   "cell_type": "code",
   "execution_count": 2,
   "metadata": {
    "collapsed": false
   },
   "outputs": [
    {
     "ename": "ImportError",
     "evalue": "cannot import name release",
     "output_type": "error",
     "traceback": [
      "\u001b[1;31m---------------------------------------------------------------------------\u001b[0m",
      "\u001b[1;31mImportError\u001b[0m                               Traceback (most recent call last)",
      "\u001b[1;32m<ipython-input-2-adb54b608629>\u001b[0m in \u001b[0;36m<module>\u001b[1;34m()\u001b[0m\n\u001b[0;32m      5\u001b[0m \u001b[1;31m#-------------------------------------------------------------------------------\u001b[0m\u001b[1;33m\u001b[0m\u001b[1;33m\u001b[0m\u001b[0m\n\u001b[0;32m      6\u001b[0m \u001b[1;33m\u001b[0m\u001b[0m\n\u001b[1;32m----> 7\u001b[1;33m \u001b[1;32mimport\u001b[0m \u001b[0mnetworkx\u001b[0m \u001b[1;32mas\u001b[0m \u001b[0mnx\u001b[0m  \u001b[1;31m#reading: http://networkx.github.io/documentation/latest/reference/drawing.html\u001b[0m\u001b[1;33m\u001b[0m\u001b[0m\n\u001b[0m\u001b[0;32m      8\u001b[0m \u001b[1;32mimport\u001b[0m \u001b[0mcsv\u001b[0m   \u001b[1;31m#reading: https://docs.python.org/2/library/csv.html\u001b[0m\u001b[1;33m\u001b[0m\u001b[0m\n\u001b[0;32m      9\u001b[0m \u001b[1;32mimport\u001b[0m \u001b[0mopenpyxl\u001b[0m   \u001b[1;31m#reading: http://openpyxl.readthedocs.org/en/2.3.3/\u001b[0m\u001b[1;33m\u001b[0m\u001b[0m\n",
      "\u001b[1;32mC:\\Users\\karasji1\\anaconda\\lib\\site-packages\\networkx\\__init__.py\u001b[0m in \u001b[0;36m<module>\u001b[1;34m()\u001b[0m\n\u001b[0;32m     41\u001b[0m \u001b[1;33m\u001b[0m\u001b[0m\n\u001b[0;32m     42\u001b[0m \u001b[1;31m# Release data\u001b[0m\u001b[1;33m\u001b[0m\u001b[1;33m\u001b[0m\u001b[0m\n\u001b[1;32m---> 43\u001b[1;33m \u001b[1;32mfrom\u001b[0m \u001b[0mnetworkx\u001b[0m \u001b[1;32mimport\u001b[0m \u001b[0mrelease\u001b[0m\u001b[1;33m\u001b[0m\u001b[0m\n\u001b[0m\u001b[0;32m     44\u001b[0m \u001b[1;33m\u001b[0m\u001b[0m\n\u001b[0;32m     45\u001b[0m \u001b[0m__author__\u001b[0m   \u001b[1;33m=\u001b[0m \u001b[1;34m'%s <%s>\\n%s <%s>\\n%s <%s>'\u001b[0m \u001b[1;33m%\u001b[0m\u001b[0;31m \u001b[0m\u001b[0;31m\\\u001b[0m\u001b[1;33m\u001b[0m\u001b[0m\n",
      "\u001b[1;31mImportError\u001b[0m: cannot import name release"
     ]
    }
   ],
   "source": [
    "#-------------------------------------------------------------------------------\n",
    "# Name:        tree-graph 1\n",
    "# Author:      4n6strider\n",
    "# Copyright:   (c) 4n6strider\n",
    "#-------------------------------------------------------------------------------\n",
    "\n",
    "import networkx as nx  #reading: http://networkx.github.io/documentation/latest/reference/drawing.html\n",
    "import csv   #reading: https://docs.python.org/2/library/csv.html\n",
    "import openpyxl   #reading: http://openpyxl.readthedocs.org/en/2.3.3/\n",
    "#import xlswriter\n",
    "\n",
    "\n",
    "def get_nodelist(nfile):\n",
    "    with open(raw_input(\"Paste absolute path to the nfile: \"), 'rb') as nfile:\n",
    "        csv_nfile=csv.reader(nfile,dialect=\"excel\")\n",
    "        nodelist=[]\n",
    "        for row in csv_nfile:\n",
    "            nodelist.append(row)\n",
    "        return nodelist\n",
    "        \n",
    "def get_edgelist(efile):\n",
    "    with open(raw_input(\"Paste absolute path to the efile: \"), 'rb') as efile:\n",
    "        csv_efile=csv.reader(efile,dialect=\"excel\")\n",
    "        edgelist=[]\n",
    "        for row in csv_efile:\n",
    "            #edgelist.append(tuple(row['source'], row['target'])) /// this needs to be fixed to get list fo tuples :source:target:\n",
    "            \n",
    "            edgelist.append(row) # this returns data in format: list of values like:['source;target'], ['qradar-offense-39793;39793']\n",
    "             \n",
    "        return edgelist\n",
    "           \n",
    "      \n",
    "\n",
    "\n",
    "nfile=\"\"\n",
    "efile=\"\"\n",
    "get_nodelist(nfile)\n",
    "get_edgelist(efile)\n"
   ]
  },
  {
   "cell_type": "code",
   "execution_count": null,
   "metadata": {
    "collapsed": true
   },
   "outputs": [],
   "source": []
  }
 ],
 "metadata": {
  "kernelspec": {
   "display_name": "Python 2",
   "language": "python",
   "name": "python2"
  },
  "language_info": {
   "codemirror_mode": {
    "name": "ipython",
    "version": 2
   },
   "file_extension": ".py",
   "mimetype": "text/x-python",
   "name": "python",
   "nbconvert_exporter": "python",
   "pygments_lexer": "ipython2",
   "version": "2.7.11"
  }
 },
 "nbformat": 4,
 "nbformat_minor": 0
}
